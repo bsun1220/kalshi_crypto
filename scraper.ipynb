{
 "cells": [
  {
   "cell_type": "code",
   "execution_count": 1,
   "id": "b5266df7-ca5a-4110-9a90-e12ca842cc60",
   "metadata": {},
   "outputs": [],
   "source": [
    "import pandas as pd\n",
    "import numpy as np\n",
    "from cryptography.hazmat.primitives import serialization\n",
    "from datetime import datetime, timedelta\n",
    "from src.clients import KalshiHttpClient, KalshiWebSocketClient, Environment\n",
    "from src.web_scraper import get_kalshi_px, calculate_fair\n",
    "from src.constants import *\n",
    "from IPython.display import clear_output"
   ]
  },
  {
   "cell_type": "code",
   "execution_count": 2,
   "id": "d1d5e80f-efbd-4833-a08d-de180572d7af",
   "metadata": {},
   "outputs": [],
   "source": [
    "env = Environment.PROD # toggle environment here\n",
    "KEYFILE = '../kalshi/bsun1220.txt'\n",
    "KEYID = pd.read_pickle('../kalshi/key.txt')\n",
    "\n",
    "try:\n",
    "    with open(KEYFILE, \"rb\") as key_file:\n",
    "        private_key = serialization.load_pem_private_key(\n",
    "            key_file.read(),\n",
    "            password=None  # Provide the password if your key is encrypted\n",
    "        )\n",
    "except FileNotFoundError:\n",
    "    raise FileNotFoundError(f\"Private key file not found at {KEYFILE}\")\n",
    "except Exception as e:\n",
    "    raise Exception(f\"Error loading private key: {str(e)}\")\n",
    "\n",
    "# Initialize the HTTP client\n",
    "client = KalshiHttpClient(\n",
    "    key_id=KEYID,\n",
    "    private_key=private_key,\n",
    "    environment=env\n",
    ")"
   ]
  },
  {
   "cell_type": "code",
   "execution_count": 3,
   "id": "44b0b3be-d6c2-4d66-9f7d-bc5106c7178d",
   "metadata": {},
   "outputs": [],
   "source": [
    "def get_markets(bitcoin = True):\n",
    "    now = datetime.now()\n",
    "    if now.hour >= DAILY_HOUR_EXPIRE:\n",
    "        now = now + timedelta(days=1)\n",
    "    month_dict = ['', 'JAN', 'FEB' 'MAR', 'APR', 'MAY', 'JUN', 'JUL', 'AUG', 'SEP', 'OCT', 'NOV', 'DEC']\n",
    "    year = now.year %100\n",
    "    symbol = 'BTC' if bitcoin else 'ETH'\n",
    "    event_ticker = f'KX{symbol}D-{year}{month_dict[now.month]}{now.day}17'\n",
    "    info = client.get(f'/trade-api/v2/events/{event_ticker}')\n",
    "\n",
    "    tickers = [x['ticker'] for x in info['markets']]\n",
    "\n",
    "    ans = {}\n",
    "    for ticker in tickers:\n",
    "        orderbook_url = f'/trade-api/v2/markets/{ticker}/orderbook'\n",
    "        strike = int(np.round(float(ticker.split('-T')[1]) + 0.01, 2))\n",
    "        ans[strike] = client.get(orderbook_url)\n",
    "    \n",
    "    return ans"
   ]
  },
  {
   "cell_type": "code",
   "execution_count": 4,
   "id": "ae25dd61-1121-4179-a4cf-31a14e973464",
   "metadata": {},
   "outputs": [
    {
     "name": "stderr",
     "output_type": "stream",
     "text": [
      "\n",
      "KeyboardInterrupt\n",
      "\n"
     ]
    }
   ],
   "source": [
    "while True:\n",
    "    for coin in ['BTC', 'ETH']:\n",
    "        date_click = 0 if datetime.now().hour <= DAILY_HOUR_EXPIRE else 1\n",
    "        is_btc = coin == 'BTC'\n",
    "        ans = get_markets(is_btc)\n",
    "        curr_px = get_kalshi_px(is_btc, DAILY_HOUR_EXPIRE)\n",
    "        fairs = calculate_fair(ans.keys(), coin, DAILY_HOUR_EXPIRE,curr_px, date_click)\n",
    "    \n",
    "        eligible_fairs ={}\n",
    "        for strike in fairs:\n",
    "            if fairs[strike] > FAIR_THRESHOLD and fairs[strike] < 1 - FAIR_THRESHOLD:\n",
    "                eligible_fairs[strike] = fairs[strike]\n",
    "    \n",
    "        pd.to_pickle(eligible_fairs, f'data/{coin}_fairs.pkl')"
   ]
  },
  {
   "cell_type": "code",
   "execution_count": null,
   "id": "be90a98e-197e-4e60-84ee-7069fa59b7ae",
   "metadata": {},
   "outputs": [],
   "source": []
  },
  {
   "cell_type": "code",
   "execution_count": null,
   "id": "a7f09803-940e-42a5-a54e-aff00d5faaf2",
   "metadata": {},
   "outputs": [],
   "source": []
  }
 ],
 "metadata": {
  "kernelspec": {
   "display_name": "Python 3 (ipykernel)",
   "language": "python",
   "name": "python3"
  },
  "language_info": {
   "codemirror_mode": {
    "name": "ipython",
    "version": 3
   },
   "file_extension": ".py",
   "mimetype": "text/x-python",
   "name": "python",
   "nbconvert_exporter": "python",
   "pygments_lexer": "ipython3",
   "version": "3.13.0"
  }
 },
 "nbformat": 4,
 "nbformat_minor": 5
}
