{
 "cells": [
  {
   "cell_type": "code",
   "execution_count": 1,
   "id": "632cb8b1-e167-4e3a-a2ea-2e7ed2a86acb",
   "metadata": {},
   "outputs": [],
   "source": [
    "import pandas as pd\n",
    "import numpy as np\n",
    "from cryptography.hazmat.primitives import serialization\n",
    "from datetime import datetime\n",
    "from src.clients import KalshiHttpClient, KalshiWebSocketClient, Environment\n",
    "from src.web_scraper import get_kalshi_px, calculate_fair\n",
    "\n",
    "env = Environment.PROD # toggle environment here\n",
    "KEYFILE = '../kalshi/bsun1220.txt'\n",
    "KEYID = pd.read_pickle('../kalshi/key.txt')\n",
    "\n",
    "try:\n",
    "    with open(KEYFILE, \"rb\") as key_file:\n",
    "        private_key = serialization.load_pem_private_key(\n",
    "            key_file.read(),\n",
    "            password=None  # Provide the password if your key is encrypted\n",
    "        )\n",
    "except FileNotFoundError:\n",
    "    raise FileNotFoundError(f\"Private key file not found at {KEYFILE}\")\n",
    "except Exception as e:\n",
    "    raise Exception(f\"Error loading private key: {str(e)}\")\n",
    "\n",
    "# Initialize the HTTP client\n",
    "client = KalshiHttpClient(\n",
    "    key_id=KEYID,\n",
    "    private_key=private_key,\n",
    "    environment=env\n",
    ")"
   ]
  },
  {
   "cell_type": "code",
   "execution_count": 3,
   "id": "76eeeb88-06df-4921-a970-31358e9ada00",
   "metadata": {},
   "outputs": [],
   "source": [
    "#Params\n",
    "DAILY_HOUR_EXPIRE = 17 #expiry of daily contract\n",
    "FAIR_THRESHOLD = 0.05 #only trade contracts between x and 1 - x fair value\n",
    "MIN_EDGE_REQ = 0.03 #minimum edge required to fire trade\n",
    "MIN_HOUR = 1 #minimum number of hours until stop trading"
   ]
  },
  {
   "cell_type": "code",
   "execution_count": 15,
   "id": "4cf01ae4-7ab3-46cf-b13a-99249e478f1e",
   "metadata": {},
   "outputs": [],
   "source": [
    "def get_markets(bitcoin = True):\n",
    "    now = datetime.now()\n",
    "    if now.hour >= DAILY_HOUR_EXPIRE:\n",
    "        now = now + timedelta(days=1)\n",
    "    month_dict = ['', 'JAN', 'FEB' 'MAR', 'APR', 'MAY', 'JUN', 'JUL', 'AUG', 'SEP', 'OCT', 'NOV', 'DEC']\n",
    "    year = now.year %100\n",
    "    symbol = 'BTC' if bitcoin else 'ETH'\n",
    "    event_ticker = f'KX{symbol}D-{year}{month_dict[now.month]}{now.day}17'\n",
    "    info = client.get(f'/trade-api/v2/events/{event_ticker}')\n",
    "\n",
    "    tickers = [x['ticker'] for x in info['markets']]\n",
    "\n",
    "    ans = {}\n",
    "    for ticker in tickers:\n",
    "        orderbook_url = f'/trade-api/v2/markets/{ticker}/orderbook'\n",
    "        strike = int(np.round(float(ticker.split('-T')[1]) + 0.01, 2))\n",
    "        ans[strike] = client.get(orderbook_url)\n",
    "    \n",
    "    return ans"
   ]
  },
  {
   "cell_type": "code",
   "execution_count": 13,
   "id": "da9a3c27-f7cb-4412-91cf-b16224f3c13d",
   "metadata": {},
   "outputs": [],
   "source": [
    "for coin in ['ETH', 'BTC']:\n",
    "    date_click = 0 if datetime.now().hour <= DAILY_HOUR_EXPIRE else 1\n",
    "    is_btc = coin == 'BTC'\n",
    "    ans = get_markets(is_btc)\n",
    "    curr_px = get_kalshi_px(is_btc)\n",
    "    fairs = calculate_fair(ans.keys(), coin, DAILY_HOUR_EXPIRE,curr_px, date_click)\n",
    "\n",
    "    eligible_fairs ={}\n",
    "    for strike in fairs:\n",
    "        if fairs[strike] > FAIR_THRESHOLD and fairs[strike] < 1 - FAIR_THRESHOLD:\n",
    "            eligible_fairs[strike] = fairs[strike]\n",
    "\n",
    "    ans = get_markets(is_btc)\n",
    "    eligible_markets = {}\n",
    "    for strike in ans:\n",
    "        if strike in eligible_fairs:\n",
    "            eligible_markets[strike] = ans[strike]['orderbook']"
   ]
  },
  {
   "cell_type": "code",
   "execution_count": 14,
   "id": "7ac10539-bbb8-4620-ae1b-ec9915faaf1a",
   "metadata": {},
   "outputs": [
    {
     "data": {
      "text/plain": [
       "({103750: {'yes': [[1, 28987],\n",
       "    [3, 20000],\n",
       "    [4, 10110],\n",
       "    [6, 888],\n",
       "    [7, 888],\n",
       "    [11, 11],\n",
       "    [49, 50],\n",
       "    [57, 12500],\n",
       "    [72, 8000],\n",
       "    [73, 50],\n",
       "    [90, 42],\n",
       "    [95, 10000],\n",
       "    [96, 200],\n",
       "    [98, 4728]],\n",
       "   'no': [[1, 91]]}},\n",
       " {103750: 0.75})"
      ]
     },
     "execution_count": 14,
     "metadata": {},
     "output_type": "execute_result"
    }
   ],
   "source": [
    "eligible_markets, eligible_fairs"
   ]
  },
  {
   "cell_type": "code",
   "execution_count": null,
   "id": "490476aa-7630-4aae-90c4-83a6999a132a",
   "metadata": {},
   "outputs": [],
   "source": []
  }
 ],
 "metadata": {
  "kernelspec": {
   "display_name": "Python 3 (ipykernel)",
   "language": "python",
   "name": "python3"
  },
  "language_info": {
   "codemirror_mode": {
    "name": "ipython",
    "version": 3
   },
   "file_extension": ".py",
   "mimetype": "text/x-python",
   "name": "python",
   "nbconvert_exporter": "python",
   "pygments_lexer": "ipython3",
   "version": "3.13.0"
  }
 },
 "nbformat": 4,
 "nbformat_minor": 5
}
