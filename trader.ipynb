{
 "cells": [
  {
   "cell_type": "code",
   "execution_count": 1,
   "id": "632cb8b1-e167-4e3a-a2ea-2e7ed2a86acb",
   "metadata": {},
   "outputs": [],
   "source": [
    "import pandas as pd\n",
    "import numpy as np\n",
    "from cryptography.hazmat.primitives import serialization\n",
    "from datetime import datetime, timedelta\n",
    "from src.clients import KalshiHttpClient, KalshiWebSocketClient, Environment\n",
    "from src.web_scraper import get_kalshi_px, calculate_fair\n",
    "from src.constants import *\n",
    "from IPython.display import clear_output\n",
    "import time\n",
    "\n",
    "env = Environment.PROD # toggle environment here\n",
    "KEYFILE = '../kalshi/bsun1220.txt'\n",
    "KEYID = pd.read_pickle('../kalshi/key.txt')\n",
    "\n",
    "try:\n",
    "    with open(KEYFILE, \"rb\") as key_file:\n",
    "        private_key = serialization.load_pem_private_key(\n",
    "            key_file.read(),\n",
    "            password=None  # Provide the password if your key is encrypted\n",
    "        )\n",
    "except FileNotFoundError:\n",
    "    raise FileNotFoundError(f\"Private key file not found at {KEYFILE}\")\n",
    "except Exception as e:\n",
    "    raise Exception(f\"Error loading private key: {str(e)}\")\n",
    "\n",
    "# Initialize the HTTP client\n",
    "client = KalshiHttpClient(\n",
    "    key_id=KEYID,\n",
    "    private_key=private_key,\n",
    "    environment=env\n",
    ")"
   ]
  },
  {
   "cell_type": "code",
   "execution_count": 2,
   "id": "4cf01ae4-7ab3-46cf-b13a-99249e478f1e",
   "metadata": {},
   "outputs": [],
   "source": [
    "def get_markets(bitcoin = True):\n",
    "    now = datetime.now()\n",
    "    if now.hour >= DAILY_HOUR_EXPIRE:\n",
    "        now = now + timedelta(days=1)\n",
    "    month_dict = ['', 'JAN', 'FEB' 'MAR', 'APR', 'MAY', 'JUN', 'JUL', 'AUG', 'SEP', 'OCT', 'NOV', 'DEC']\n",
    "    year = now.year %100\n",
    "    symbol = 'BTC' if bitcoin else 'ETH'\n",
    "    event_ticker = f'KX{symbol}D-{year}{month_dict[now.month]}{now.day}17'\n",
    "    info = client.get(f'/trade-api/v2/events/{event_ticker}')\n",
    "\n",
    "    tickers = [x['ticker'] for x in info['markets']]\n",
    "\n",
    "    ans = {}\n",
    "    for ticker in tickers:\n",
    "        orderbook_url = f'/trade-api/v2/markets/{ticker}/orderbook'\n",
    "        strike = int(np.round(float(ticker.split('-T')[1]) + 0.01, 2))\n",
    "        ans[strike] = client.get(orderbook_url)['orderbook']\n",
    "    \n",
    "    return ans"
   ]
  },
  {
   "cell_type": "code",
   "execution_count": 3,
   "id": "34f8b481-0c70-4897-afe7-337bb677b25a",
   "metadata": {},
   "outputs": [
    {
     "name": "stdout",
     "output_type": "stream",
     "text": [
      "BTC-104000: yes_price: 76, yes_fair: 72, 16 lots\n"
     ]
    },
    {
     "name": "stderr",
     "output_type": "stream",
     "text": [
      "\n",
      "KeyboardInterrupt\n",
      "\n"
     ]
    }
   ],
   "source": [
    "trades = []\n",
    "\n",
    "while True:\n",
    "    clear_output(wait = True)\n",
    "    time.sleep(TIME_SLEEP)\n",
    "    for coin in ['BTC', 'ETH']:\n",
    "        is_btc = coin == 'BTC'\n",
    "        markets = get_markets(is_btc)\n",
    "        fairs = pd.read_pickle(f'data/{coin}_fairs.pkl')\n",
    "        \n",
    "        for strike in fairs:\n",
    "            market = markets[strike]\n",
    "        \n",
    "            yes_fair = int(fairs[strike] * 100)\n",
    "            no_fair = 100 - yes_fair\n",
    "\n",
    "            if market['yes'] is not None:\n",
    "                for i in range(len(market['yes']) - 1, -1, -1):\n",
    "                    value, size = market['yes'][i][0], market['yes'][i][1]\n",
    "                    if value > yes_fair + MIN_EDGE_REQ * 100:\n",
    "                        print(f'{coin}-{strike}: yes_price: {value}, yes_fair: {yes_fair}, {size} lots')\n",
    "\n",
    "                        if BACKTEST:\n",
    "                            trades.append([coin, strike, 'no', 100-value, size])\n",
    "                        \n",
    "\n",
    "            if market['no'] is not None:\n",
    "                for i in range(len(market['no']) - 1, -1, -1):\n",
    "                    value, size = market['no'][i][0], market['no'][i][1]\n",
    "                    if value > no_fair + MIN_EDGE_REQ * 100:\n",
    "                        print(f'{coin}-{strike}: no_price: {value}, no_fair: {no_fair}, {size} lots')\n",
    "                        if BACKTEST:\n",
    "                            trades.append([coin, strike, 'yes', 100-value, size])\n",
    "            "
   ]
  },
  {
   "cell_type": "code",
   "execution_count": null,
   "id": "6a6be93e-b26f-4708-a4d9-4dc0b88a57df",
   "metadata": {},
   "outputs": [],
   "source": []
  },
  {
   "cell_type": "code",
   "execution_count": 7,
   "id": "0cc2f9a0-6e4e-4a1f-a422-c3910d3698c9",
   "metadata": {},
   "outputs": [],
   "source": [
    "def evaluate_backtest(final_prices, trades):\n",
    "    pnl = 0\n",
    "    for trade in trades:\n",
    "        coin, strike, cont_type, price, size = trade[0], trade[1], trade[2], trade[3], trade[4]\n",
    "\n",
    "        if cont_type == 'yes':\n",
    "            final_value = 100 if final_prices[coin] >= strike else 0\n",
    "        if cont_type == 'no':\n",
    "            final_value = 100 if final_prices[coin] < strike else 0\n",
    "\n",
    "        pnl += size * (final_value - price)\n",
    "\n",
    "    return pnl/100\n",
    "        "
   ]
  },
  {
   "cell_type": "code",
   "execution_count": 13,
   "id": "3eb63807-54fc-4021-aa05-a8477a06fc22",
   "metadata": {},
   "outputs": [
    {
     "data": {
      "text/plain": [
       "-39.0"
      ]
     },
     "execution_count": 13,
     "metadata": {},
     "output_type": "execute_result"
    }
   ],
   "source": [
    "final_prices = {'ETH':3300, 'BTC':95_000}\n",
    "trades = [['ETH', 3200, 'yes', 90, 10], ['BTC', 96_000, 'yes', 40, 100]]\n",
    "evaluate_backtest(final_prices, trades)"
   ]
  },
  {
   "cell_type": "code",
   "execution_count": null,
   "id": "c6476331-9813-4ec2-a67a-829aaeee6374",
   "metadata": {},
   "outputs": [],
   "source": []
  }
 ],
 "metadata": {
  "kernelspec": {
   "display_name": "Python 3 (ipykernel)",
   "language": "python",
   "name": "python3"
  },
  "language_info": {
   "codemirror_mode": {
    "name": "ipython",
    "version": 3
   },
   "file_extension": ".py",
   "mimetype": "text/x-python",
   "name": "python",
   "nbconvert_exporter": "python",
   "pygments_lexer": "ipython3",
   "version": "3.13.0"
  }
 },
 "nbformat": 4,
 "nbformat_minor": 5
}
