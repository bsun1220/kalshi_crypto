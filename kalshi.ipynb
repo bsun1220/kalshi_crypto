{
 "cells": [
  {
   "cell_type": "code",
   "execution_count": 3,
   "id": "632cb8b1-e167-4e3a-a2ea-2e7ed2a86acb",
   "metadata": {},
   "outputs": [
    {
     "name": "stdout",
     "output_type": "stream",
     "text": [
      "Balance: {'balance': 1000}\n"
     ]
    }
   ],
   "source": [
    "import os\n",
    "#from dotenv import load_dotenv\n",
    "from cryptography.hazmat.primitives import serialization\n",
    "import asyncio\n",
    "import pandas as pd\n",
    "\n",
    "from clients import KalshiHttpClient, KalshiWebSocketClient, Environment\n",
    "\n",
    "# Load environment variables\n",
    "#load_dotenv()\n",
    "env = Environment.PROD # toggle environment here\n",
    "KEYID = os.getenv('DEMO_KEYID') if env == Environment.DEMO else os.getenv('PROD_KEYID')\n",
    "KEYFILE = os.getenv('DEMO_KEYFILE') if env == Environment.DEMO else os.getenv('PROD_KEYFILE')\n",
    "\n",
    "KEYFILE = '../kalshi/bsun1220.txt'\n",
    "KEYID = pd.read_pickle('../kalshi/key.txt')\n",
    "\n",
    "try:\n",
    "    with open(KEYFILE, \"rb\") as key_file:\n",
    "        private_key = serialization.load_pem_private_key(\n",
    "            key_file.read(),\n",
    "            password=None  # Provide the password if your key is encrypted\n",
    "        )\n",
    "except FileNotFoundError:\n",
    "    raise FileNotFoundError(f\"Private key file not found at {KEYFILE}\")\n",
    "except Exception as e:\n",
    "    raise Exception(f\"Error loading private key: {str(e)}\")\n",
    "\n",
    "# Initialize the HTTP client\n",
    "client = KalshiHttpClient(\n",
    "    key_id=KEYID,\n",
    "    private_key=private_key,\n",
    "    environment=env\n",
    ")\n",
    "\n",
    "# Get account balance\n",
    "balance = client.get_balance()\n",
    "print(\"Balance:\", balance)\n",
    "\n",
    "# Initialize the WebSocket client\n",
    "ws_client = KalshiWebSocketClient(\n",
    "    key_id=KEYID,\n",
    "    private_key=private_key,\n",
    "    environment=env\n",
    ")"
   ]
  },
  {
   "cell_type": "code",
   "execution_count": 32,
   "id": "8e9b4df8-8807-4e3b-889c-17abb85a1fa9",
   "metadata": {},
   "outputs": [
    {
     "data": {
      "text/plain": [
       "{'series': {'ticker': 'KXBTCD',\n",
       "  'frequency': 'hourly',\n",
       "  'title': 'Bitcoin price Above/below',\n",
       "  'category': 'Crypto',\n",
       "  'tags': ['BTC'],\n",
       "  'settlement_sources': [{'url': 'https://www.cfbenchmarks.com/data/indices/BRTI?ref=blog.cfbenchmarks.com',\n",
       "    'name': 'CF Benchmarks'}],\n",
       "  'contract_url': 'https://kalshi-public-docs.s3.us-east-1.amazonaws.com/regulatory/product-certifications/BTC.pdf'}}"
      ]
     },
     "execution_count": 32,
     "metadata": {},
     "output_type": "execute_result"
    }
   ],
   "source": [
    "event_ticker = 'KXBTCD-25JAN1717'\n",
    "info = client.get(f'/trade-api/v2/events/{event_ticker}')\n",
    "\n",
    "series_ticker = 'KXBTCD'\n",
    "info = client.get(f'/trade-api/v2/series/{series_ticker}')\n"
   ]
  },
  {
   "cell_type": "code",
   "execution_count": null,
   "id": "1a436411-8ccf-4d24-88e0-c2cd72fb648c",
   "metadata": {},
   "outputs": [],
   "source": []
  }
 ],
 "metadata": {
  "kernelspec": {
   "display_name": "Python 3 (ipykernel)",
   "language": "python",
   "name": "python3"
  },
  "language_info": {
   "codemirror_mode": {
    "name": "ipython",
    "version": 3
   },
   "file_extension": ".py",
   "mimetype": "text/x-python",
   "name": "python",
   "nbconvert_exporter": "python",
   "pygments_lexer": "ipython3",
   "version": "3.13.0"
  }
 },
 "nbformat": 4,
 "nbformat_minor": 5
}
