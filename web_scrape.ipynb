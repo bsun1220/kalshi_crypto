{
 "cells": [
  {
   "cell_type": "code",
   "execution_count": 1,
   "id": "97f233c7-8f67-4ce8-aeb0-3267261c5f1a",
   "metadata": {},
   "outputs": [],
   "source": [
    "import selenium\n",
    "import numpy as np\n",
    "import pandas as pd \n",
    "import matplotlib.pyplot as plt\n",
    "from selenium import webdriver\n",
    "from selenium.webdriver.common.by import By\n",
    "from selenium.webdriver.chrome.options import Options\n",
    "import time\n",
    "from scipy.interpolate import UnivariateSpline\n",
    "from scipy.ndimage import gaussian_filter1d\n",
    "from scipy.interpolate import interp1d\n",
    "from datetime import datetime, timedelta"
   ]
  },
  {
   "cell_type": "code",
   "execution_count": 2,
   "id": "389ccc82-ca57-4332-8719-3d65dd3283de",
   "metadata": {},
   "outputs": [],
   "source": [
    "def get_coin_data(coin, date_click = 0):\n",
    "    chrome_options = Options()\n",
    "    chrome_options.add_argument(\"--headless=new\") \n",
    "    driver = webdriver.Chrome(options=chrome_options)\n",
    "    driver.get(f\"https://www.binance.com/en/eoptions/{coin}USDT\")\n",
    "    time.sleep(1)\n",
    "    \n",
    "    buttons = driver.find_elements(By.XPATH, '//*[contains(@class, \"bn-tab bn-tab__primary data-size-small\")]')\n",
    "    buttons[3 + date_click].click()\n",
    "    \n",
    "    time.sleep(1)\n",
    "    calls = driver.find_elements(By.XPATH, '//*[contains(@class, \"call-row\")]')\n",
    "    strikes = driver.find_elements(By.XPATH, '//*[contains(@class, \"t-subtitle2 !leading-[14px] text-PrimaryText\")]')\n",
    "    \n",
    "    calls_text = [x.text for x in calls]\n",
    "    strikes_text = [x.text for x in strikes]\n",
    "    \n",
    "    fairs_list = [float(x.split('\\n')[5].replace(',','')) for x in calls_text]\n",
    "    strikes_list = []\n",
    "    for strike in strikes_text:\n",
    "        if '\\n' in strike:\n",
    "            strike = strike.split('\\n')[1]\n",
    "        strikes_list.append(float(strike.replace(',', '')))\n",
    "\n",
    "    assert len(fairs_list) == len(strikes_list)\n",
    "    overall_list = []\n",
    "    \n",
    "    for i in range(len(fairs_list)):\n",
    "        overall_list.append((fairs_list[i], strikes_list[i]))\n",
    " \n",
    "    elements = driver.find_elements(By.XPATH, '//*[contains(@class, \"t-caption3 text-SecondaryText\")]')\n",
    "    price = float(elements[0].text.split('\\n')[1][2:].replace(',', ''))\n",
    "    time_left = elements[3].text.split('\\n')[1][2:-7].split(':')\n",
    "    \n",
    "    info = {'price':price, 'time_left':(int(time_left[0]), int(time_left[1]), int(time_left[2]))}\n",
    "    driver.close()\n",
    "    return overall_list, info\n",
    "\n",
    "def time_until(hour):\n",
    "    now = datetime.now()\n",
    "    target_time = now.replace(hour=hour, minute=0, second=0, microsecond=0)\n",
    "    if now >= target_time:\n",
    "        target_time += timedelta(days=1)\n",
    "    return target_time - now\n",
    "\n",
    "def probability_above_strike(c, strikes, density):\n",
    "    if c < strikes[0]:\n",
    "        return 1.0\n",
    "    elif c > strikes[-1]:\n",
    "        return 0.0\n",
    "    else:\n",
    "        interpolated_density = np.interp(c, strikes, density)\n",
    "        extended_strikes = np.insert(strikes, np.searchsorted(strikes, c), c)\n",
    "        extended_density = np.insert(density, np.searchsorted(strikes, c), interpolated_density)\n",
    "        mask = extended_strikes >= c\n",
    "        prob = np.trapezoid(extended_density[mask], extended_strikes[mask])\n",
    "        return prob"
   ]
  },
  {
   "cell_type": "code",
   "execution_count": 31,
   "id": "bd02121c-4995-414d-a0d4-9546055788a9",
   "metadata": {},
   "outputs": [],
   "source": [
    "def calculate_fair(strike, coin, expiry):\n",
    "    data, info = get_coin_data(coin, 0)\n",
    "\n",
    "    time_until_expiry = time_until(expiry)\n",
    "    time_until_3am = time_until(3)\n",
    "    \n",
    "    const_threshold = time_until_3am.seconds/time_until_expiry.seconds\n",
    "\n",
    "    call_prices, strike_prices = zip(*data)\n",
    "\n",
    "    transformed_strike_prices = []\n",
    "    for px in strike_prices:\n",
    "        px = info['price'] + (px - info['price'])/np.sqrt(const_threshold)\n",
    "        transformed_strike_prices.append(px)\n",
    "\n",
    "    second_derivative = np.gradient(np.gradient(call_prices, transformed_strike_prices), transformed_strike_prices)\n",
    "    scaled_sigma = 1\n",
    "    smoothed_second_derivative = gaussian_filter1d(second_derivative, sigma=scaled_sigma)\n",
    "    \n",
    "    risk_neutral_density = smoothed_second_derivative\n",
    "    \n",
    "    prob_above_strike = probability_above_strike(strike, np.array(transformed_strike_prices), risk_neutral_density)\n",
    "    min_prob = probability_above_strike(min(transformed_strike_prices), np.array(transformed_strike_prices), risk_neutral_density)\n",
    "    prob_above_strike = prob_above_strike/(min_prob + 0.06)\n",
    "    return float(np.round(prob_above_strike, 3))"
   ]
  },
  {
   "cell_type": "code",
   "execution_count": 34,
   "id": "ddc08f7e-5fcb-4f5d-b0d3-aba77fbb82c3",
   "metadata": {},
   "outputs": [
    {
     "data": {
      "text/plain": [
       "0.949"
      ]
     },
     "execution_count": 34,
     "metadata": {},
     "output_type": "execute_result"
    }
   ],
   "source": [
    "calculate_fair(3110, 'ETH', 17)"
   ]
  },
  {
   "cell_type": "code",
   "execution_count": 30,
   "id": "28cb8c7e-d1c6-4350-b56c-1f8ca2666d50",
   "metadata": {},
   "outputs": [
    {
     "ename": "NameError",
     "evalue": "name 'prob' is not defined",
     "output_type": "error",
     "traceback": [
      "\u001b[0;31m---------------------------------------------------------------------------\u001b[0m",
      "\u001b[0;31mNameError\u001b[0m                                 Traceback (most recent call last)",
      "Cell \u001b[0;32mIn[30], line 27\u001b[0m\n\u001b[1;32m     25\u001b[0m prob_above_strike \u001b[38;5;241m=\u001b[39m probability_above_strike(strike, np\u001b[38;5;241m.\u001b[39marray(transformed_strike_prices), risk_neutral_density)\n\u001b[1;32m     26\u001b[0m min_prob \u001b[38;5;241m=\u001b[39m probability_above_strike(\u001b[38;5;28mmin\u001b[39m(transformed_strike_prices), np\u001b[38;5;241m.\u001b[39marray(transformed_strike_prices), risk_neutral_density)\n\u001b[0;32m---> 27\u001b[0m prob \u001b[38;5;241m=\u001b[39m \u001b[43mprob\u001b[49m\u001b[38;5;241m/\u001b[39m(min_prob \u001b[38;5;241m+\u001b[39m \u001b[38;5;241m0.05\u001b[39m)\n\u001b[1;32m     29\u001b[0m plt\u001b[38;5;241m.\u001b[39mfigure(figsize\u001b[38;5;241m=\u001b[39m(\u001b[38;5;241m10\u001b[39m, \u001b[38;5;241m6\u001b[39m))\n\u001b[1;32m     30\u001b[0m plt\u001b[38;5;241m.\u001b[39mplot(transformed_strike_prices, risk_neutral_density, label\u001b[38;5;241m=\u001b[39m\u001b[38;5;124m'\u001b[39m\u001b[38;5;124mSmoothed Implied RND\u001b[39m\u001b[38;5;124m'\u001b[39m)\n",
      "\u001b[0;31mNameError\u001b[0m: name 'prob' is not defined"
     ]
    }
   ],
   "source": [
    "coin = 'ETH'\n",
    "strike = 3190\n",
    "expiry = 17\n",
    "\n",
    "data, info = get_coin_data(coin, 0)\n",
    "\n",
    "time_until_expiry = time_until(expiry)\n",
    "time_until_3am = time_until(3)\n",
    "\n",
    "const_threshold = time_until_3am.seconds/time_until_expiry.seconds\n",
    "\n",
    "call_prices, strike_prices = zip(*data)\n",
    "\n",
    "transformed_strike_prices = []\n",
    "for px in strike_prices:\n",
    "    px = info['price'] + (px - info['price'])/np.sqrt(const_threshold)\n",
    "    transformed_strike_prices.append(px)\n",
    "\n",
    "second_derivative = np.gradient(np.gradient(call_prices, transformed_strike_prices), transformed_strike_prices)\n",
    "scaled_sigma = 1\n",
    "smoothed_second_derivative = gaussian_filter1d(second_derivative, sigma=scaled_sigma)\n",
    "\n",
    "risk_neutral_density = smoothed_second_derivative\n",
    "\n",
    "prob_above_strike = probability_above_strike(strike, np.array(transformed_strike_prices), risk_neutral_density)\n",
    "min_prob = probability_above_strike(min(transformed_strike_prices), np.array(transformed_strike_prices), risk_neutral_density)\n",
    "prob = prob/(min_prob + 0.05)\n",
    "\n",
    "plt.figure(figsize=(10, 6))\n",
    "plt.plot(transformed_strike_prices, risk_neutral_density, label='Smoothed Implied RND')\n",
    "plt.axvline(info['price'], color='red', linestyle='--', label=f'Strike Price = {info['price']}')\n",
    "plt.title('Smoothed Implied Risk-Neutral Density')\n",
    "plt.xlabel('Strike Price')\n",
    "plt.ylabel('Density')\n",
    "plt.legend()\n",
    "plt.grid(True)\n",
    "plt.show()"
   ]
  },
  {
   "cell_type": "code",
   "execution_count": 13,
   "id": "60fe5810-3df5-4daa-a724-a7fe08ae2876",
   "metadata": {},
   "outputs": [
    {
     "data": {
      "text/plain": [
       "np.float64(1.2692699053855734)"
      ]
     },
     "execution_count": 13,
     "metadata": {},
     "output_type": "execute_result"
    }
   ],
   "source": [
    "prob_above_strike"
   ]
  },
  {
   "cell_type": "code",
   "execution_count": 29,
   "id": "a3392dd4-e591-4863-9037-377a69fae3dd",
   "metadata": {},
   "outputs": [
    {
     "data": {
      "text/plain": [
       "np.float64(0.6669644170889014)"
      ]
     },
     "execution_count": 29,
     "metadata": {},
     "output_type": "execute_result"
    }
   ],
   "source": []
  },
  {
   "cell_type": "code",
   "execution_count": null,
   "id": "fe5d0e09-94df-4d37-a022-840ece310262",
   "metadata": {},
   "outputs": [],
   "source": [
    "r"
   ]
  }
 ],
 "metadata": {
  "kernelspec": {
   "display_name": "Python 3 (ipykernel)",
   "language": "python",
   "name": "python3"
  },
  "language_info": {
   "codemirror_mode": {
    "name": "ipython",
    "version": 3
   },
   "file_extension": ".py",
   "mimetype": "text/x-python",
   "name": "python",
   "nbconvert_exporter": "python",
   "pygments_lexer": "ipython3",
   "version": "3.13.0"
  }
 },
 "nbformat": 4,
 "nbformat_minor": 5
}
