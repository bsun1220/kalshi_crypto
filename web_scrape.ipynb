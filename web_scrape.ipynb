{
 "cells": [
  {
   "cell_type": "code",
   "execution_count": 1,
   "id": "97f233c7-8f67-4ce8-aeb0-3267261c5f1a",
   "metadata": {},
   "outputs": [],
   "source": [
    "import selenium\n",
    "import numpy as np\n",
    "import pandas as pd \n",
    "import matplotlib.pyplot as plt\n",
    "from selenium import webdriver\n",
    "from selenium.webdriver.common.by import By\n",
    "from selenium.webdriver.chrome.options import Options\n",
    "import time\n",
    "from scipy.interpolate import UnivariateSpline\n",
    "from scipy.ndimage import gaussian_filter1d\n",
    "from scipy.interpolate import interp1d\n",
    "from datetime import datetime, timedelta"
   ]
  },
  {
   "cell_type": "code",
   "execution_count": 2,
   "id": "389ccc82-ca57-4332-8719-3d65dd3283de",
   "metadata": {},
   "outputs": [],
   "source": [
    "def get_coin_data(coin, date_click = 0):\n",
    "    chrome_options = Options()\n",
    "    chrome_options.add_argument(\"--headless=new\") \n",
    "    driver = webdriver.Chrome(options=chrome_options)\n",
    "    driver.get(f\"https://www.binance.com/en/eoptions/{coin}USDT\")\n",
    "    time.sleep(1)\n",
    "    \n",
    "    buttons = driver.find_elements(By.XPATH, '//*[contains(@class, \"bn-tab bn-tab__primary data-size-small\")]')\n",
    "    buttons[3 + date_click].click()\n",
    "    \n",
    "    time.sleep(1)\n",
    "    calls = driver.find_elements(By.XPATH, '//*[contains(@class, \"call-row\")]')\n",
    "    strikes = driver.find_elements(By.XPATH, '//*[contains(@class, \"t-subtitle2 !leading-[14px] text-PrimaryText\")]')\n",
    "    \n",
    "    calls_text = [x.text for x in calls]\n",
    "    strikes_text = [x.text for x in strikes]\n",
    "    \n",
    "    fairs_list = [float(x.split('\\n')[5].replace(',','')) for x in calls_text]\n",
    "    strikes_list = []\n",
    "    for strike in strikes_text:\n",
    "        if '\\n' in strike:\n",
    "            strike = strike.split('\\n')[1]\n",
    "        strikes_list.append(float(strike.replace(',', '')))\n",
    "\n",
    "    assert len(fairs_list) == len(strikes_list)\n",
    "    overall_list = []\n",
    "    \n",
    "    for i in range(len(fairs_list)):\n",
    "        overall_list.append((fairs_list[i], strikes_list[i]))\n",
    "\n",
    "    buttons = driver.find_elements(By.XPATH, '//*[contains(@class, \"bn-tab bn-tab__primary data-size-small\")]')\n",
    "    buttons[3].click()\n",
    "    time.sleep(1)\n",
    "    \n",
    "    elements = driver.find_elements(By.XPATH, '//*[contains(@class, \"t-caption3 text-SecondaryText\")]')\n",
    "    price = float(elements[0].text.split('\\n')[1][2:].replace(',', ''))\n",
    "    time_left = elements[3].text.split('\\n')[1][2:-7].split(':')\n",
    "    \n",
    "    info = {'price':price, 'time_left':(int(time_left[0]), int(time_left[1]), int(time_left[2]))}\n",
    "    driver.close()\n",
    "    return overall_list, info\n",
    "\n",
    "def time_until(hour):\n",
    "    now = datetime.now()\n",
    "    target_time = now.replace(hour=hour, minute=0, second=0, microsecond=0)\n",
    "    if now >= target_time:\n",
    "        target_time += timedelta(days=1)\n",
    "    return target_time - now\n",
    "\n",
    "def probability_above_strike(c, strikes, density):\n",
    "    if c < strikes[0]:\n",
    "        return 1.0\n",
    "    elif c > strikes[-1]:\n",
    "        return 0.0\n",
    "    else:\n",
    "        interpolated_density = np.interp(c, strikes, density)\n",
    "        extended_strikes = np.insert(strikes, np.searchsorted(strikes, c), c)\n",
    "        extended_density = np.insert(density, np.searchsorted(strikes, c), interpolated_density)\n",
    "        mask = extended_strikes >= c\n",
    "        prob = np.trapezoid(extended_density[mask], extended_strikes[mask])\n",
    "        return prob"
   ]
  },
  {
   "cell_type": "code",
   "execution_count": 3,
   "id": "bd02121c-4995-414d-a0d4-9546055788a9",
   "metadata": {},
   "outputs": [],
   "source": [
    "def calculate_fair(strikes, coin, expiry, date_click = 0):\n",
    "    data, info = get_coin_data(coin, date_click)\n",
    "\n",
    "    time_until_expiry = time_until(expiry)\n",
    "    time_until_3am = time_until(3)\n",
    "    \n",
    "    const_threshold = (time_until_3am.seconds + 86400 * date_click)/time_until_expiry.seconds\n",
    "\n",
    "    call_prices, strike_prices = zip(*data)\n",
    "\n",
    "    transformed_strike_prices = []\n",
    "    for px in strike_prices:\n",
    "        px = info['price'] + (px - info['price'])/np.sqrt(const_threshold)\n",
    "        transformed_strike_prices.append(px)\n",
    "\n",
    "    second_derivative = np.gradient(np.gradient(call_prices, transformed_strike_prices), transformed_strike_prices)\n",
    "    scaled_sigma = 1\n",
    "    smoothed_second_derivative = gaussian_filter1d(second_derivative, sigma=scaled_sigma)\n",
    "    \n",
    "    risk_neutral_density = smoothed_second_derivative\n",
    "\n",
    "    ans = []\n",
    "    for strike in strikes:\n",
    "        prob_above_strike = probability_above_strike(strike, np.array(transformed_strike_prices), risk_neutral_density)\n",
    "        min_prob = probability_above_strike(min(transformed_strike_prices), np.array(transformed_strike_prices), risk_neutral_density)\n",
    "        prob_above_strike = prob_above_strike/(min_prob + 0.05)\n",
    "        prob_above_strike = float(np.round(prob_above_strike, 3))\n",
    "        ans.append(prob_above_strike)\n",
    "    \n",
    "    return ans, info['price']"
   ]
  },
  {
   "cell_type": "code",
   "execution_count": 4,
   "id": "ddc08f7e-5fcb-4f5d-b0d3-aba77fbb82c3",
   "metadata": {},
   "outputs": [
    {
     "data": {
      "text/plain": [
       "([0.233, 0.979, 0.923, 0.468, 0.096, 0.013, 0.0], 3428.0)"
      ]
     },
     "execution_count": 4,
     "metadata": {},
     "output_type": "execute_result"
    }
   ],
   "source": [
    "strikes = [3_310, 3_350, 3_390, 3_430, 3_470, 3_510, 3_550]\n",
    "\n",
    "calculate_fair(strikes, 'ETH', 17, 1)"
   ]
  },
  {
   "cell_type": "code",
   "execution_count": 14,
   "id": "d016f709-5259-4810-8fe0-b5de329853bb",
   "metadata": {},
   "outputs": [],
   "source": [
    "def get_kalshi_px(bitcoin = False):\n",
    "    now = datetime.now()\n",
    "    if now.hour >= 17:\n",
    "        now = now + timedelta(days=1)\n",
    "    \n",
    "    month_dict = ['', 'jan', 'feb' 'mar', 'apr', 'may', 'jun', 'jul', 'aug', 'sep', 'oct', 'nov', 'dec']\n",
    "    name = 'bitcoin' if bitcoin else 'ethereum'\n",
    "    symbol = 'btc' if bitcoin else 'eth'\n",
    "    url = f'https://kalshi.com/markets/kx{symbol}d/{name}-price-abovebelow#kx{symbol}d-{now.year%100}{month_dict[now.month]}{now.day}17'\n",
    "    \n",
    "    chrome_options = Options()\n",
    "    chrome_options.add_argument(\"--headless=new\") \n",
    "    driver = webdriver.Chrome(options=chrome_options)\n",
    "    driver.get(url)\n",
    "    time.sleep(2.5)\n",
    "\n",
    "    elements = driver.find_elements(By.XPATH, '//*[contains(@class, \"ticker-digit\")]')\n",
    "\n",
    "    num = ''\n",
    "    for ele in elements:\n",
    "        if ele.text == '':\n",
    "            continue\n",
    "        num += ele.text\n",
    "\n",
    "    num = int(num[0:-2])/100\n",
    "    driver.close()\n",
    "    return num\n",
    "    "
   ]
  },
  {
   "cell_type": "code",
   "execution_count": 15,
   "id": "54b353a5-c181-4daa-98fb-bf16d6587660",
   "metadata": {},
   "outputs": [
    {
     "name": "stdout",
     "output_type": "stream",
     "text": [
      "105775.88\n",
      "3430.66\n"
     ]
    }
   ],
   "source": [
    "print(get_kalshi_px(True))\n",
    "print(get_kalshi_px(False))"
   ]
  },
  {
   "cell_type": "code",
   "execution_count": null,
   "id": "15d158e6-fcc3-4790-9ab5-e10de6507d21",
   "metadata": {},
   "outputs": [],
   "source": []
  }
 ],
 "metadata": {
  "kernelspec": {
   "display_name": "Python 3 (ipykernel)",
   "language": "python",
   "name": "python3"
  },
  "language_info": {
   "codemirror_mode": {
    "name": "ipython",
    "version": 3
   },
   "file_extension": ".py",
   "mimetype": "text/x-python",
   "name": "python",
   "nbconvert_exporter": "python",
   "pygments_lexer": "ipython3",
   "version": "3.13.0"
  }
 },
 "nbformat": 4,
 "nbformat_minor": 5
}
